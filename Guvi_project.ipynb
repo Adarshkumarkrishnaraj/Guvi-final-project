{
  "nbformat": 4,
  "nbformat_minor": 0,
  "metadata": {
    "colab": {
      "provenance": [],
      "mount_file_id": "1MnH0H5c2bAGY5c6uCVfz1vZmekV70dRk",
      "authorship_tag": "ABX9TyMPR4e5M49e9VnW36p9nkTR",
      "include_colab_link": true
    },
    "kernelspec": {
      "name": "python3",
      "display_name": "Python 3"
    },
    "language_info": {
      "name": "python"
    }
  },
  "cells": [
    {
      "cell_type": "markdown",
      "metadata": {
        "id": "view-in-github",
        "colab_type": "text"
      },
      "source": [
        "<a href=\"https://colab.research.google.com/github/Adarshkumarkrishnaraj/Guvi-final-project/blob/main/Guvi_project.ipynb\" target=\"_parent\"><img src=\"https://colab.research.google.com/assets/colab-badge.svg\" alt=\"Open In Colab\"/></a>"
      ]
    },
    {
      "cell_type": "code",
      "execution_count": 23,
      "metadata": {
        "colab": {
          "base_uri": "https://localhost:8080/"
        },
        "id": "XEhvVuX1nF4Y",
        "outputId": "a5b9fe1d-6d7b-4983-b366-9cec2ca09b9a"
      },
      "outputs": [
        {
          "output_type": "stream",
          "name": "stdout",
          "text": [
            "   age           job  marital education_qual call_type  day  mon  dur  \\\n",
            "0   58    management  married       tertiary   unknown    5  may  261   \n",
            "1   44    technician   single      secondary   unknown    5  may  151   \n",
            "2   33  entrepreneur  married      secondary   unknown    5  may   76   \n",
            "3   47   blue-collar  married        unknown   unknown    5  may   92   \n",
            "4   33       unknown   single        unknown   unknown    5  may  198   \n",
            "\n",
            "   num_calls prev_outcome   y  \n",
            "0          1      unknown  no  \n",
            "1          1      unknown  no  \n",
            "2          1      unknown  no  \n",
            "3          1      unknown  no  \n",
            "4          1      unknown  no  \n",
            "<class 'pandas.core.frame.DataFrame'>\n",
            "RangeIndex: 45211 entries, 0 to 45210\n",
            "Data columns (total 11 columns):\n",
            " #   Column          Non-Null Count  Dtype \n",
            "---  ------          --------------  ----- \n",
            " 0   age             45211 non-null  int64 \n",
            " 1   job             45211 non-null  object\n",
            " 2   marital         45211 non-null  object\n",
            " 3   education_qual  45211 non-null  object\n",
            " 4   call_type       45211 non-null  object\n",
            " 5   day             45211 non-null  int64 \n",
            " 6   mon             45211 non-null  object\n",
            " 7   dur             45211 non-null  int64 \n",
            " 8   num_calls       45211 non-null  int64 \n",
            " 9   prev_outcome    45211 non-null  object\n",
            " 10  y               45211 non-null  object\n",
            "dtypes: int64(4), object(7)\n",
            "memory usage: 3.8+ MB\n",
            "None\n",
            "                age           day           dur     num_calls\n",
            "count  45211.000000  45211.000000  45211.000000  45211.000000\n",
            "mean      40.936210     15.806419    258.163080      2.763841\n",
            "std       10.618762      8.322476    257.527812      3.098021\n",
            "min       18.000000      1.000000      0.000000      1.000000\n",
            "25%       33.000000      8.000000    103.000000      1.000000\n",
            "50%       39.000000     16.000000    180.000000      2.000000\n",
            "75%       48.000000     21.000000    319.000000      3.000000\n",
            "max       95.000000     31.000000   4918.000000     63.000000\n"
          ]
        }
      ],
      "source": [
        "import pandas as pd\n",
        "from sklearn.model_selection import train_test_split, GridSearchCV\n",
        "from sklearn.preprocessing import StandardScaler, OneHotEncoder\n",
        "from sklearn.compose import ColumnTransformer\n",
        "from sklearn.pipeline import Pipeline\n",
        "from sklearn.impute import SimpleImputer\n",
        "from sklearn.ensemble import RandomForestClassifier\n",
        "from sklearn.metrics import classification_report, roc_auc_score\n",
        "\n",
        "\n",
        "data = pd.read_csv('/content/Customer Conversion Prediction - Customer Conversion Prediction.csv')\n",
        "data.shape\n",
        "print(data.head())\n",
        "print(data.info())\n",
        "print(data.describe())\n"
      ]
    },
    {
      "cell_type": "code",
      "source": [
        "data[\"y\"].value_counts()"
      ],
      "metadata": {
        "colab": {
          "base_uri": "https://localhost:8080/"
        },
        "id": "a9bx-LJuiqzv",
        "outputId": "ee562fba-c46e-446a-f482-e2063cbf91c7"
      },
      "execution_count": 24,
      "outputs": [
        {
          "output_type": "execute_result",
          "data": {
            "text/plain": [
              "y\n",
              "no     39922\n",
              "yes     5289\n",
              "Name: count, dtype: int64"
            ]
          },
          "metadata": {},
          "execution_count": 24
        }
      ]
    },
    {
      "cell_type": "code",
      "source": [
        "X = data.drop('y', axis=1)\n",
        "y = data['y']\n",
        "\n",
        "\n",
        "numeric_features = X.select_dtypes(include=['int64', 'float64']).columns\n",
        "categorical_features = X.select_dtypes(include=['object']).columns\n",
        "\n",
        "numeric_transformer = Pipeline(steps=[\n",
        "    ('imputer', SimpleImputer(strategy='median')),\n",
        "    ('scaler', StandardScaler())])\n",
        "\n",
        "categorical_transformer = Pipeline(steps=[\n",
        "    ('imputer', SimpleImputer(strategy='constant', fill_value='missing')),\n",
        "    ('onehot', OneHotEncoder(handle_unknown='ignore'))])\n",
        "\n",
        "preprocessor = ColumnTransformer(\n",
        "    transformers=[\n",
        "        ('num', numeric_transformer, numeric_features),\n",
        "        ('cat', categorical_transformer, categorical_features)])\n",
        "\n",
        "\n",
        "X_train, X_test, y_train, y_test = train_test_split(X, y, test_size=0.2, random_state=1)\n",
        "\n",
        "\n",
        "model = Pipeline(steps=[\n",
        "    ('preprocessor', preprocessor),\n",
        "    ('classifier', RandomForestClassifier(random_state=12))])\n",
        "\n",
        "param_grid = {\n",
        "    'classifier__n_estimators': [100, 200, 300],\n",
        "    'classifier__max_depth': [None, 10, 20, 30],\n",
        "    'classifier__min_samples_split': [2, 5, 10],\n",
        "    'classifier__min_samples_leaf': [1, 2, 4]\n",
        "}\n",
        "\n",
        "\n",
        "grid_search = GridSearchCV(model, param_grid, cv=5, scoring='roc_auc', n_jobs=-1)\n",
        "\n",
        "\n",
        "grid_search.fit(X_train, y_train)\n",
        "\n",
        "\n",
        "y_pred = grid_search.predict(X_test)\n",
        "y_pred_proba = grid_search.predict_proba(X_test)[:, 1]\n",
        "\n",
        "\n",
        "print(\"Classification Report:\\n\", classification_report(y_test, y_pred))\n",
        "print(\"ROC-AUC Score:\", roc_auc_score(y_test, y_pred_proba))\n",
        "\n",
        "\n",
        "import joblib\n",
        "joblib.dump(grid_search.best_estimator_, 'best_model.pkl')"
      ],
      "metadata": {
        "id": "rSS9wSBWrlsD"
      },
      "execution_count": null,
      "outputs": []
    }
  ]
}